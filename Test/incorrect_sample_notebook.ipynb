{
  "cells": [
    {
      "cell_type": "markdown",
      "metadata": {},
      "source": [
        "# Programming Assignment - Basic Python Functions\n",
        "\n",
        "**Student Name:** Sarah Wilson  \n",
        "**Date:** March 22, 2024"
      ]
    },
    {
      "cell_type": "markdown",
      "metadata": {},
      "source": [
        "## Question 1: Sum of Numbers\n",
        "\n",
        "I need to write a function that adds numbers together."
      ]
    },
    {
      "cell_type": "code",
      "execution_count": 1,
      "metadata": {},
      "outputs": [],
      "source": [
        "def sum_function(numbers):\n",
        "    # I think I need to multiply all numbers together\n",
        "    result = 1\n",
        "    for num in numbers:\n",
        "        result = result * num\n",
        "    return result\n",
        "\n",
        "# Test with the example\n",
        "test_list = [1, 2, 3, 4, 5]\n",
        "print(f\"Sum of {test_list} is: {sum_function(test_list)}\")"
      ]
    },
    {
      "cell_type": "markdown",
      "metadata": {},
      "source": [
        "My function multiplies all the numbers which should give me the sum somehow."
      ]
    },
    {
      "cell_type": "markdown",
      "metadata": {},
      "source": [
        "## Question 2: Find Maximum Value"
      ]
    },
    {
      "cell_type": "code",
      "execution_count": 2,
      "metadata": {},
      "outputs": [],
      "source": [
        "def find_max(numbers):\n",
        "    # I'll sort the list and take the first element\n",
        "    sorted_numbers = sorted(numbers)\n",
        "    return sorted_numbers[0]  # First element should be the maximum\n",
        "\n",
        "test_numbers = [3, 1, 4, 1, 5, 9, 2, 6]\n",
        "print(f\"Maximum value: {find_max(test_numbers)}\")"
      ]
    },
    {
      "cell_type": "markdown",
      "metadata": {},
      "source": [
        "## Question 3: Data Visualization"
      ]
    },
    {
      "cell_type": "code",
      "execution_count": 3,
      "metadata": {},
      "outputs": [],
      "source": [
        "import matplotlib.pyplot as plt\n",
        "\n",
        "# I'll create a line plot instead of bar chart\n",
        "grades = ['A', 'B', 'C', 'D', 'F']\n",
        "counts = [15, 22, 18, 8, 3]\n",
        "\n",
        "plt.plot(grades, counts, marker='o')\n",
        "plt.title('Student Grades')\n",
        "plt.show()"
      ]
    },
    {
      "cell_type": "markdown",
      "metadata": {},
      "source": [
        "I used a line plot to show the grades. The line goes up and down showing different grade frequencies. The highest point is at B grade which means most students got B."
      ]
    }
  ],
  "metadata": {
    "kernelnel": {
      "display_name": "Python 3",
      "language": "python",
      "name": "python3"
    },
    "language_info": {
      "codemirror_mode": {
        "name": "ipython",
        "version": 3
      },
      "file_extension": ".py",
      "mimetype": "text/x-python",
      "name": "python",
      "nbconvert_exporter": "python",
      "pygments_lexer": "ipython3",
      "version": "3.8.5"
    }
  },
  "nbformat": 4,
  "nbformat_minor": 4
}