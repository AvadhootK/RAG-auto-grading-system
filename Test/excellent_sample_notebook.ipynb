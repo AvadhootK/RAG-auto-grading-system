{
  "cells": [
    {
      "cell_type": "markdown",
      "metadata": {},
      "source": [
        "# Programming Assignment - Basic Python Functions\n",
        "\n",
        "**Student Name:** Michael Chen  \n",
        "**Date:** March 18, 2024  \n",
        "**Course:** Introduction to Data Science  \n",
        "**Assignment:** Homework 3"
      ]
    },
    {
      "cell_type": "markdown",
      "metadata": {},
      "source": [
        "## Question 1: Sum of Numbers\n",
        "\n",
        "**Problem Statement:** Write a function that takes a list of numbers and returns their sum. Test it with the list [1, 2, 3, 4, 5]."
      ]
    },
    {
      "cell_type": "markdown",
      "metadata": {},
      "source": [
        "**Solution Approach:**\n",
        "\n",
        "I will implement a function that iterates through a list of numbers and accumulates their sum. The function will handle edge cases like empty lists and include proper type hints and documentation for maintainability."
      ]
    },
    {
      "cell_type": "code",
      "execution_count": 1,
      "metadata": {},
      "outputs": [],
      "source": [
        "def sum_numbers(numbers: list[float]) -> float:\n",
        "    \"\"\"\n",
        "    Calculate the sum of all numbers in a list.\n",
        "    \n",
        "    Args:\n",
        "        numbers (list[float]): A list of numbers to sum\n",
        "        \n",
        "    Returns:\n",
        "        float: The sum of all numbers in the list\n",
        "        \n",
        "    Examples:\n",
        "        >>> sum_numbers([1, 2, 3, 4, 5])\n",
        "        15\n",
        "        >>> sum_numbers([])\n",
        "        0\n",
        "    \"\"\"\n",
        "    if not numbers:  # Handle empty list\n",
        "        return 0\n",
        "    \n",
        "    total = 0\n",
        "    for number in numbers:\n",
        "        total += number\n",
        "    return total\n",
        "\n",
        "# Test cases\n",
        "test_cases = [\n",
        "    [1, 2, 3, 4, 5],\n",
        "    [],\n",
        "    [10],\n",
        "    [-1, -2, -3],\n",
        "    [1.5, 2.5, 3.0]\n",
        "]\n",
        "\n",
        "print(\"Testing sum_numbers function:\")\n",
        "for i, test_case in enumerate(test_cases, 1):\n",
        "    result = sum_numbers(test_case)\n",
        "    print(f\"Test {i}: sum_numbers({test_case}) = {result}\")"
      ]
    },
    {
      "cell_type": "markdown",
      "metadata": {},
      "source": [
        "**Analysis:** The function correctly handles all test cases including edge cases like empty lists and negative numbers. The implementation is efficient with O(n) time complexity."
      ]
    },
    {
      "cell_type": "markdown",
      "metadata": {},
      "source": [
        "## Question 2: Find Maximum Value\n",
        "\n",
        "**Problem Statement:** Write a function that finds the maximum value in a list of numbers. Include proper error handling for empty lists."
      ]
    },
    {
      "cell_type": "markdown",
      "metadata": {},
      "source": [
        "**Solution Strategy:**\n",
        "\n",
        "I'll implement a robust maximum-finding function that includes comprehensive error handling, type hints, and thorough testing. The function will raise appropriate exceptions for invalid inputs."
      ]
    },
    {
      "cell_type": "code",
      "execution_count": 2,
      "metadata": {},
      "outputs": [],
      "source": [
        "def find_maximum(numbers: list[float]) -> float:\n",
        "    \"\"\"\n",
        "    Find the maximum value in a list of numbers.\n",
        "    \n",
        "    Args:\n",
        "        numbers (list[float]): A non-empty list of numbers\n",
        "        \n",
        "    Returns:\n",
        "        float: The maximum value in the list\n",
        "        \n",
        "    Raises:\n",
        "        ValueError: If the input list is empty\n",
        "        TypeError: If the input is not a list\n",
        "        \n",
        "    Examples:\n",
        "        >>> find_maximum([3, 1, 4, 1, 5, 9, 2, 6])\n",
        "        9\n",
        "        >>> find_maximum([-5, -2, -10])\n",
        "        -2\n",
        "    \"\"\"\n",
        "    # Input validation\n",
        "    if not isinstance(numbers, list):\n",
        "        raise TypeError(\"Input must be a list\")\n",
        "    \n",
        "    if len(numbers) == 0:\n",
        "        raise ValueError(\"Cannot find maximum of empty list\")\n",
        "    \n",
        "    # Find maximum using iteration\n",
        "    max_value = numbers[0]\n",
        "    for number in numbers[1:]:\n",
        "        if number > max_value:\n",
        "            max_value = number\n",
        "    \n",
        "    return max_value\n",
        "\n",
        "# Comprehensive testing\n",
        "print(\"Testing find_maximum function:\")\n",
        "\n",
        "# Test with regular lists\n",
        "test_lists = [\n",
        "    [3, 1, 4, 1, 5, 9, 2, 6],\n",
        "    [-5, -2, -10, -1],\n",
        "    [42],\n",
        "    [1.5, 2.7, 1.2, 3.8]\n",
        "]\n",
        "\n",
        "for i, test_list in enumerate(test_lists, 1):\n",
        "    result = find_maximum(test_list)\n",
        "    print(f\"Test {i}: find_maximum({test_list}) = {result}\")\n",
        "\n",
        "# Test error handling\n",
        "print(\"\\nTesting error handling:\")\n",
        "\n",
        "# Test empty list\n",
        "try:\n",
        "    find_maximum([])\n",
        "except ValueError as e:\n",
        "    print(f\"Empty list error handled correctly: {e}\")\n",
        "\n",
        "# Test invalid input type\n",
        "try:\n",
        "    find_maximum(\"not a list\")\n",
        "except TypeError as e:\n",
        "    print(f\"Type error handled correctly: {e}\")"
      ]
    },
    {
      "cell_type": "markdown",
      "metadata": {},
      "source": [
        "**Performance Analysis:** The function has O(n) time complexity and O(1) space complexity, making it efficient for large datasets. The comprehensive error handling ensures robustness in production environments."
      ]
    },
    {
      "cell_type": "markdown",
      "metadata": {},
      "source": [
        "## Question 3: Data Visualization\n",
        "\n",
        "**Problem Statement:** Create a simple bar chart showing the frequency of different grades (A, B, C, D, F) in a class. Use the data: A=15, B=22, C=18, D=8, F=3."
      ]
    },
    {
      "cell_type": "markdown",
      "metadata": {},
      "source": [
        "**Visualization Strategy:**\n",
        "\n",
        "I'll create a professional-looking bar chart with proper styling, color coding, and comprehensive labeling. The visualization will include statistical annotations and follow data visualization best practices."
      ]
    },
    {
      "cell_type": "code",
      "execution_count": 3,
      "metadata": {},
      "outputs": [],
      "source": [
        "import matplotlib.pyplot as plt\n",
        "import numpy as np\n",
        "\n",
        "# Grade data\n",
        "grades = ['A', 'B', 'C', 'D', 'F']\n",
        "counts = [15, 22, 18, 8, 3]\n",
        "total_students = sum(counts)\n",
        "\n",
        "# Calculate percentages for additional insight\n",
        "percentages = [count/total_students * 100 for count in counts]\n",
        "\n",
        "# Create figure with custom styling\n",
        "plt.figure(figsize=(10, 8))\n",
        "\n",
        "# Color scheme: green for good grades, red for poor grades\n",
        "colors = ['#2E8B57', '#4682B4', '#FF8C00', '#DC143C', '#8B0000']\n",
        "\n",
        "# Create bar chart\n",
        "bars = plt.bar(grades, counts, color=colors, alpha=0.8, edgecolor='black', linewidth=1)\n",
        "\n",
        "# Customize the plot\n",
        "plt.xlabel('Letter Grade', fontsize=12, fontweight='bold')\n",
        "plt.ylabel('Number of Students', fontsize=12, fontweight='bold')\n",
        "plt.title('Distribution of Student Grades\\n(n=66 students)', fontsize=14, fontweight='bold', pad=20)\n",
        "\n",
        "# Add value labels on bars\n",
        "for bar, count, percentage in zip(bars, counts, percentages):\n",
        "    height = bar.get_height()\n",
        "    plt.text(bar.get_x() + bar.get_width()/2., height + 0.5,\n",
        "             f'{count}\\n({percentage:.1f}%)',\n",
        "             ha='center', va='bottom', fontweight='bold')\n",
        "\n",
        "# Add grid for better readability\n",
        "plt.grid(axis='y', alpha=0.3, linestyle='--')\n",
        "\n",
        "# Set y-axis to start at 0 and add some padding\n",
        "plt.ylim(0, max(counts) * 1.2)\n",
        "\n",
        "# Add statistical annotation\n",
        "passing_students = sum(counts[:3])  # A, B, C grades\n",
        "passing_rate = passing_students / total_students * 100\n",
        "plt.text(0.02, 0.98, f'Passing Rate: {passing_rate:.1f}%\\n(A, B, C grades)',\n",
        "         transform=plt.gca().transAxes, fontsize=10,\n",
        "         verticalalignment='top', bbox=dict(boxstyle='round', facecolor='lightblue', alpha=0.8))\n",
        "\n",
        "plt.tight_layout()\n",
        "plt.show()\n",
        "\n",
        "# Print summary statistics\n",
        "print(\"\\n=== Grade Distribution Summary ===\")\n",
        "print(f\"Total Students: {total_students}\")\n",
        "print(f\"Passing Students (A-C): {passing_students} ({passing_rate:.1f}%)\")\n",
        "print(f\"At-Risk Students (D-F): {sum(counts[3:])} ({sum(percentages[3:]):.1f}%)\")\n",
        "print(f\"Mean Grade Count: {np.mean(counts):.1f}\")\n",
        "print(f\"Most Common Grade: {grades[counts.index(max(counts))]} ({max(counts)} students)\")"
      ]
    },
    {
      "cell_type": "markdown",
      "metadata": {},
      "source": [
        "**Detailed Analysis:**\n",
        "\n",
        "The grade distribution reveals several important insights:\n",
        "\n",
        "1. **Overall Performance:** The class shows a healthy distribution with 83.3% of students achieving passing grades (A, B, or C).\n",
        "\n",
        "2. **Grade Trends:** \n",
        "   - B grade is most common (22 students, 33.3%), suggesting appropriate difficulty level\n",
        "   - C grade follows with 18 students (27.3%), indicating solid understanding\n",
        "   - A grade earned by 15 students (22.7%), showing excellence is achievable\n",
        "\n",
        "3. **Areas of Concern:** Only 16.7% of students received D or F grades, indicating effective teaching methods.\n",
        "\n",
        "4. **Statistical Insights:** The distribution approximates a normal curve slightly skewed toward higher grades, which is typical for well-designed assessments.\n",
        "\n",
        "**Recommendations:** Consider providing additional support for the 11 students who received D or F grades to improve their understanding of the material."
      ]
    }
  ],
  "metadata": {
    "kernelspec": {
      "display_name": "Python 3",
      "language": "python",
      "name": "python3"
    },
    "language_info": {
      "codemirror_mode": {
        "name": "ipython",
        "version": 3
      },
      "file_extension": ".py",
      "mimetype": "text/x-python",
      "name": "python",
      "nbconvert_exporter": "python",
      "pygments_lexer": "ipython3",
      "version": "3.8.5"
    }
  },
  "nbformat": 4,
  "nbformat_minor": 4
}