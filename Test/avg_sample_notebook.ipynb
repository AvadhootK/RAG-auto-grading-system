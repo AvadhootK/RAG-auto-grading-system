{
  "cells": [
    {
      "cell_type": "markdown",
      "metadata": {},
      "source": [
        "# Programming Assignment - Basic Python Functions\n",
        "\n",
        "**Student Name:** Alice Johnson  \n",
        "**Date:** March 20, 2024"
      ]
    },
    {
      "cell_type": "markdown",
      "metadata": {},
      "source": [
        "## Question 1: Sum of Numbers\n",
        "\n",
        "Write a function that takes a list of numbers and returns their sum."
      ]
    },
    {
      "cell_type": "code",
      "execution_count": 1,
      "metadata": {},
      "outputs": [],
      "source": [
        "def calculate_sum(number_list):\n",
        "    total = 0\n",
        "    for number in number_list:\n",
        "        total = total + number\n",
        "    return total\n",
        "\n",
        "# Test with the given example\n",
        "test_data = [1, 2, 3, 4, 5]\n",
        "print(calculate_sum(test_data))"
      ]
    },
    {
      "cell_type": "markdown",
      "metadata": {},
      "source": [
        "My function works by going through each number in the list and adding it to a running total."
      ]
    },
    {
      "cell_type": "markdown",
      "metadata": {},
      "source": [
        "## Question 2: Find Maximum Value"
      ]
    },
    {
      "cell_type": "code",
      "execution_count": 2,
      "metadata": {},
      "outputs": [],
      "source": [
        "def find_maximum(numbers):\n",
        "    # Start with first number as max\n",
        "    maximum = numbers[0]\n",
        "    \n",
        "    # Check each number\n",
        "    for num in numbers:\n",
        "        if num > maximum:\n",
        "            maximum = num\n",
        "    \n",
        "    return maximum\n",
        "\n",
        "test_numbers = [3, 1, 4, 1, 5, 9, 2, 6]\n",
        "result = find_maximum(test_numbers)\n",
        "print(f\"The maximum value is: {result}\")"
      ]
    },
    {
      "cell_type": "markdown",
      "metadata": {},
      "source": [
        "## Question 3: Data Visualization"
      ]
    },
    {
      "cell_type": "code",
      "execution_count": 3,
      "metadata": {},
      "outputs": [],
      "source": [
        "import matplotlib.pyplot as plt\n",
        "\n",
        "grades = ['A', 'B', 'C', 'D', 'F']\n",
        "student_counts = [15, 22, 18, 8, 3]\n",
        "\n",
        "plt.figure(figsize=(8, 5))\n",
        "plt.bar(grades, student_counts, color='skyblue')\n",
        "plt.title('Grade Distribution')\n",
        "plt.xlabel('Grades')\n",
        "plt.ylabel('Number of Students')\n",
        "plt.show()"
      ]
    },
    {
      "cell_type": "markdown",
      "metadata": {},
      "source": [
        "The chart shows that B grade is the most common with 22 students, followed by C grade with 18 students. Very few students got F grades."
      ]
    }
  ],
  "metadata": {
    "kernelspec": {
      "display_name": "Python 3",
      "language": "python",
      "name": "python3"
    },
    "language_info": {
      "codemirror_mode": {
        "name": "ipython",
        "version": 3
      },
      "file_extension": ".py",
      "mimetype": "text/x-python",
      "name": "python",
      "nbconvert_exporter": "python",
      "pygments_lexer": "ipython3",
      "version": "3.8.5"
    }
  },
  "nbformat": 4,
  "nbformat_minor": 4
}