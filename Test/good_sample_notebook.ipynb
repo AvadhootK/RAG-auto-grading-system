{
  "cells": [
    {
      "cell_type": "markdown",
      "metadata": {},
      "source": [
        "# Programming Assignment - Basic Python Functions\n",
        "\n",
        "**Student Name:** John Doe  \n",
        "**Date:** March 15, 2024  \n",
        "**Course:** Introduction to Data Science"
      ]
    },
    {
      "cell_type": "markdown",
      "metadata": {},
      "source": [
        "## Question 1: Sum of Numbers\n",
        "\n",
        "Write a function that takes a list of numbers and returns their sum. Test it with the list [1, 2, 3, 4, 5]."
      ]
    },
    {
      "cell_type": "markdown",
      "metadata": {},
      "source": [
        "**My Approach:**\n",
        "I will create a simple function that iterates through the list and adds each number to a running total. This is a straightforward approach that should work for any list of numbers."
      ]
    },
    {
      "cell_type": "code",
      "execution_count": 1,
      "metadata": {},
      "outputs": [],
      "source": [
        "def sum_numbers(numbers):\n",
        "    total = 0\n",
        "    for num in numbers:\n",
        "        total += num\n",
        "    return total\n",
        "\n",
        "# Test the function\n",
        "test_list = [1, 2, 3, 4, 5]\n",
        "result = sum_numbers(test_list)\n",
        "print(f\"Sum of {test_list} is: {result}\")"
      ]
    },
    {
      "cell_type": "markdown",
      "metadata": {},
      "source": [
        "## Question 2: Find Maximum Value\n",
        "\n",
        "Write a function that finds the maximum value in a list of numbers. Include proper error handling for empty lists."
      ]
    },
    {
      "cell_type": "markdown",
      "metadata": {},
      "source": [
        "**My Solution:**\n",
        "I'll write a function that checks if the list is empty first, then finds the maximum value."
      ]
    },
    {
      "cell_type": "code",
      "execution_count": 2,
      "metadata": {},
      "outputs": [],
      "source": [
        "def find_max(numbers):\n",
        "    \"\"\"\n",
        "    Find the maximum value in a list of numbers.\n",
        "    \n",
        "    Args:\n",
        "        numbers (list): List of numbers\n",
        "        \n",
        "    Returns:\n",
        "        float/int: Maximum value in the list\n",
        "        \n",
        "    Raises:\n",
        "        ValueError: If the list is empty\n",
        "    \"\"\"\n",
        "    if not numbers:\n",
        "        raise ValueError(\"Cannot find max of empty list\")\n",
        "    \n",
        "    max_val = numbers[0]\n",
        "    for num in numbers:\n",
        "        if num > max_val:\n",
        "            max_val = num\n",
        "    return max_val\n",
        "\n",
        "# Test with regular list\n",
        "test_numbers = [3, 1, 4, 1, 5, 9, 2, 6]\n",
        "print(f\"Maximum of {test_numbers} is: {find_max(test_numbers)}\")\n",
        "\n",
        "# Test edge case - empty list\n",
        "try:\n",
        "    find_max([])\n",
        "except ValueError as e:\n",
        "    print(f\"Error handled: {e}\")"
      ]
    },
    {
      "cell_type": "markdown",
      "metadata": {},
      "source": [
        "## Question 3: Data Visualization\n",
        "\n",
        "Create a simple bar chart showing the frequency of different grades (A, B, C, D, F) in a class. Use the data: A=15, B=22, C=18, D=8, F=3."
      ]
    },
    {
      "cell_type": "code",
      "execution_count": 3,
      "metadata": {},
      "outputs": [],
      "source": [
        "import matplotlib.pyplot as plt\n",
        "\n",
        "# Grade data\n",
        "grades = ['A', 'B', 'C', 'D', 'F']\n",
        "counts = [15, 22, 18, 8, 3]\n",
        "\n",
        "# Create bar chart\n",
        "plt.figure(figsize=(8, 6))\n",
        "bars = plt.bar(grades, counts, color=['green', 'blue', 'orange', 'red', 'darkred'])\n",
        "\n",
        "# Add labels and title\n",
        "plt.xlabel('Grade')\n",
        "plt.ylabel('Number of Students')\n",
        "plt.title('Distribution of Student Grades')\n",
        "\n",
        "# Add value labels on bars\n",
        "for bar, count in zip(bars, counts):\n",
        "    plt.text(bar.get_x() + bar.get_width()/2, bar.get_height() + 0.5, \n",
        "             str(count), ha='center', va='bottom')\n",
        "\n",
        "plt.tight_layout()\n",
        "plt.show()"
      ]
    },
    {
      "cell_type": "markdown",
      "metadata": {},
      "source": [
        "**Analysis:**\n",
        "The bar chart shows that most students received B grades (22 students), followed by C grades (18 students) and A grades (15 students). Very few students received failing grades (F=3) or D grades (8). This suggests the class performed reasonably well overall, with the majority of students achieving passing grades."
      ]
    },
    {
      "cell_type": "markdown",
      "metadata": {},
      "source": [
        "## Additional Testing\n",
        "\n",
        "Let me test my functions with some additional cases to make sure they work correctly."
      ]
    },
    {
      "cell_type": "code",
      "execution_count": 4,
      "metadata": {},
      "outputs": [],
      "source": [
        "# Additional tests for sum_numbers\n",
        "print(\"Testing sum_numbers with different inputs:\")\n",
        "print(f\"Empty list: {sum_numbers([])}\")\n",
        "print(f\"Single number: {sum_numbers([42])}\")\n",
        "print(f\"Negative numbers: {sum_numbers([-1, -2, -3])}\")\n",
        "print(f\"Mixed numbers: {sum_numbers([1, -2, 3, -4, 5])}\")\n",
        "\n",
        "# Additional tests for find_max\n",
        "print(\"\\nTesting find_max with different inputs:\")\n",
        "print(f\"Single number: {find_max([42])}\")\n",
        "print(f\"Negative numbers: {find_max([-5, -2, -10, -1])}\")\n",
        "print(f\"Duplicates: {find_max([3, 3, 3, 3])}\")"
      ]
    }
  ],
  "metadata": {
    "kernelspec": {
      "display_name": "Python 3",
      "language": "python",
      "name": "python3"
    },
    "language_info": {
      "codemirror_mode": {
        "name": "ipython",
        "version": 3
      },
      "file_extension": ".py",
      "mimetype": "text/x-python",
      "name": "python",
      "nbconvert_exporter": "python",
      "pygments_lexer": "ipython3",
      "version": "3.8.5"
    }
  },
  "nbformat": 4,
  "nbformat_minor": 4
}